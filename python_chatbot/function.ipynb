{
 "cells": [
  {
   "cell_type": "code",
   "execution_count": 29,
   "metadata": {},
   "outputs": [],
   "source": [
    "import math\n",
    "from matrix import *\n",
    "\n",
    "def print_matrix(M):\n",
    "    for row in M:\n",
    "        print(row)\n",
    "\n",
    "def Softmax(x):\n",
    "    prob_sum = sum([math.exp(x[0][i]) for i in range(len(x[0]))])\n",
    "    z = [math.exp(x[0][i]) / prob_sum for i in range(len(x[0]))]\n",
    "    return z"
   ]
  },
  {
   "cell_type": "code",
   "execution_count": 27,
   "metadata": {},
   "outputs": [],
   "source": [
    "X = [[1,2,3,4]]\n"
   ]
  },
  {
   "cell_type": "code",
   "execution_count": 30,
   "metadata": {},
   "outputs": [
    {
     "name": "stdout",
     "output_type": "stream",
     "text": [
      "0.03205860328008499\n",
      "0.08714431874203257\n",
      "0.23688281808991013\n",
      "0.6439142598879722\n"
     ]
    }
   ],
   "source": [
    "print_matrix(Softmax(X))"
   ]
  }
 ],
 "metadata": {
  "kernelspec": {
   "display_name": "Python 3",
   "language": "python",
   "name": "python3"
  },
  "language_info": {
   "codemirror_mode": {
    "name": "ipython",
    "version": 3
   },
   "file_extension": ".py",
   "mimetype": "text/x-python",
   "name": "python",
   "nbconvert_exporter": "python",
   "pygments_lexer": "ipython3",
   "version": "3.10.10"
  }
 },
 "nbformat": 4,
 "nbformat_minor": 2
}
